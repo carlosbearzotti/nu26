{
 "cells": [
  {
   "cell_type": "code",
   "execution_count": null,
   "id": "4475af2e",
   "metadata": {},
   "outputs": [],
   "source": [
    "df_limpo.describe(include=[object])"
   ]
  },
  {
   "cell_type": "code",
   "execution_count": null,
   "id": "b1481529",
   "metadata": {},
   "outputs": [],
   "source": [
    "for col in ['clima', 'feriado', 'fim_de_semana', 'estacao']:\n",
    "    print(f'Coluna: {col}')\n",
    "    print(df_limpo[col].unique())\n",
    "    print('='*15,'\\n')"
   ]
  },
  {
   "cell_type": "code",
   "execution_count": null,
   "id": "b5b7c24a",
   "metadata": {},
   "outputs": [],
   "source": [
    "plt.figure(figsize=(8,4))\n",
    "sns.boxplot(x='feriado', y='contagem', data=df_limpo)\n",
    "plt.title('Aluguéis de bicicletas em dias normais vs feriados')\n",
    "plt.xlabel('Feriado')\n",
    "plt.ylabel('Número de aluguéis')\n",
    "plt.show()"
   ]
  },
  {
   "cell_type": "code",
   "execution_count": null,
   "id": "416d9fff",
   "metadata": {},
   "outputs": [],
   "source": [
    "plt.figure(figsize=(8,4))\n",
    "sns.boxplot(x='fim_de_semana', y='contagem', data=df_limpo)\n",
    "plt.title('Aluguéis de bicicletas em dias normais vs finais de semana')\n",
    "plt.xlabel('Fim de semana')\n",
    "plt.ylabel('Número de aluguéis')\n",
    "plt.show()"
   ]
  },
  {
   "cell_type": "code",
   "execution_count": null,
   "id": "9ba272b4",
   "metadata": {},
   "outputs": [],
   "source": [
    "mediana_feriado = df_limpo.groupby('feriado')['contagem'].median()\n",
    "mediana_fim_de_semana = df_limpo.groupby('fim_de_semana')['contagem'].median()"
   ]
  },
  {
   "cell_type": "code",
   "execution_count": null,
   "id": "081fa47b",
   "metadata": {},
   "outputs": [],
   "source": [
    "mediana_feriado"
   ]
  },
  {
   "cell_type": "code",
   "execution_count": null,
   "id": "ace3d217",
   "metadata": {},
   "outputs": [],
   "source": [
    "mediana_fim_de_semana"
   ]
  },
  {
   "cell_type": "code",
   "execution_count": null,
   "id": "56a7c52e",
   "metadata": {},
   "outputs": [],
   "source": [
    "df_clima = df_limpo.groupby('clima')['contagem'].sum().reset_index().sort_values(by='contagem', ascending=False)\n",
    "\n",
    "plt.figure(figsize=(6,4))\n",
    "sns.barplot(data=df_clima, y='clima', x='contagem', hue='clima', palette='Blues_r', orient='h')\n",
    "plt.title('Bicicletas alugadas por clima')\n",
    "plt.xlabel('Contagem')\n",
    "plt.ylabel('')\n",
    "plt.show()"
   ]
  },
  {
   "cell_type": "code",
   "execution_count": null,
   "id": "99bafde2",
   "metadata": {},
   "outputs": [],
   "source": [
    "plt.figure(figsize=(8,4))\n",
    "\n",
    "paleta_cores = {'Primavera': 'green', 'Verão': 'orange', 'Outono': 'brown' , 'Inverno': 'blue'}\n",
    "sns.boxplot(x='estacao', y='contagem', data=df_limpo, hue='estacao', palette=paleta_cores)\n",
    "plt.title('Aluguéis de bicicletas por estação do ano')\n",
    "plt.xlabel('Estação do ano')\n",
    "plt.ylabel('Número de aluguéis')\n",
    "plt.show("
   ]
  },
  {
   "cell_type": "code",
   "execution_count": null,
   "id": "27e1f4f0",
   "metadata": {},
   "outputs": [],
   "source": [
    "from scipy.stats import mannwhitneyu\n",
    "\n",
    "# Filtrar os dados\n",
    "primavera = df_limpo[df_limpo['estacao'] == 'Primavera']['contagem']\n",
    "outono = df_limpo[df_limpo['estacao'] == 'Outono']['contagem']\n",
    "\n",
    "# Aplicar a estatística\n",
    "u_statistic, p_value = mannwhitneyu(primavera, outono, alternative='two-sided') \n",
    "u_statistic, p_value"
   ]
  }
 ],
 "metadata": {
  "language_info": {
   "name": "python"
  }
 },
 "nbformat": 4,
 "nbformat_minor": 5
}
