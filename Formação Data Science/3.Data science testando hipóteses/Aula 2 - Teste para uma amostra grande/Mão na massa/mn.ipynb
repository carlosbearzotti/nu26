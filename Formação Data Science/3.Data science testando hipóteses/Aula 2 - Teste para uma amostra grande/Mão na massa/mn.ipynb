{
 "cells": [
  {
   "cell_type": "code",
   "execution_count": null,
   "id": "1d84c7d0",
   "metadata": {},
   "outputs": [],
   "source": [
    "import pandas as pd\n",
    "\n",
    "# Conjunto de dados TechTaste\n",
    "df_techtaste = pd.DataFrame({'avaliacoes': [38, 44, 33, 42, 47, 33, 36, 39, 42, 36, 39, 34, 42, 42, 36, 43, 31, 35, 36, 41, 42, 30, 25, 38, 47, 36, 32, 45, 44, 45, 37, 48, 37, 36, 44, 49, 31, 45, 45, 40, 36, 50, 38, 34, 36, 42, 46, 49, 36, 34, 38, 31, 53, 40, 57, 40, 36, 42, 26, 50, 32, 43, 35, 37, 42, 30, 36, 43, 40, 43, 44, 52, 37, 51, 35, 47, 40, 50, 37, 49]})"
   ]
  },
  {
   "cell_type": "code",
   "execution_count": null,
   "id": "006a31f1",
   "metadata": {},
   "outputs": [],
   "source": [
    "media_amostral = df_techtaste['avaliacoes'].mean()\n",
    "print(f'Média Amostral: {media_amostral}')"
   ]
  },
  {
   "cell_type": "code",
   "execution_count": null,
   "id": "46cf865c",
   "metadata": {},
   "outputs": [],
   "source": [
    "'''\n",
    "H0: u = 30\n",
    "H1: u != 30\n",
    "'''"
   ]
  },
  {
   "cell_type": "code",
   "execution_count": null,
   "id": "782c7375",
   "metadata": {},
   "outputs": [],
   "source": [
    "import numpy as np\n",
    "\n",
    "# Valores previamente especificados\n",
    "confianca = 0.95\n",
    "desvio_padrao_populacional = 2.65\n",
    "\n",
    "# Outros valores para calcular o intervalo\n",
    "tamanho_amostra = len(df_techtaste)\n",
    "media_nula = 30\n",
    "\n",
    "from scipy import stats\n",
    "intervalo_confianca = stats.norm.interval(confianca,\n",
    "                                       loc= media_nula,\n",
    "                                       scale=(desvio_padrao_populacional)/np.sqrt(tamanho_amostra))\n",
    "\n",
    "print(f'Intervalo de Confiança ({confianca*100}%): {intervalo_confianca}')"
   ]
  },
  {
   "cell_type": "code",
   "execution_count": null,
   "id": "fe41940c",
   "metadata": {},
   "outputs": [],
   "source": [
    "from statsmodels.stats.weightstats import ztest\n",
    "\n",
    "stat, p_valor = ztest(x1=df_techtaste['avaliacoes'], value=media_nula, alternative='two-sided')\n",
    "\n",
    "print(f'Estatística Z: {stat}')\n",
    "print(f'Valor-p: {p_valor}')"
   ]
  },
  {
   "cell_type": "code",
   "execution_count": null,
   "id": "820a6890",
   "metadata": {},
   "outputs": [],
   "source": [
    "if p_valor < nivel_significancia:\n",
    "    conclusao = 'Rejeitar a hipótese nula'\n",
    "else:\n",
    "    conclusao = 'Não rejeita a hipótese nula'\n",
    "\n",
    "print('Conclusão:', conclusao)"
   ]
  }
 ],
 "metadata": {
  "language_info": {
   "name": "python"
  }
 },
 "nbformat": 4,
 "nbformat_minor": 5
}
