{
 "cells": [
  {
   "cell_type": "code",
   "execution_count": null,
   "id": "1c51499e",
   "metadata": {},
   "outputs": [],
   "source": [
    "import pandas as pd\n",
    "\n",
    "# Conjunto de dados TechTaste\n",
    "df_techtaste = pd.DataFrame({'avaliacoes': [38, 44, 33, 42, 47, 33, 36, 39, 42, 36, 39, 34, 42, 42, 36, 43, 31, 35, 36, 41, 42, 30, 25, 38, 47, 36, 32, 45, 44, 45, 37, 48, 37, 36, 44, 49, 31, 45, 45, 40, 36, 50, 38, 34, 36, 42, 46, 49, 36, 34, 38, 31, 53, 40, 57, 40, 36, 42, 26, 50, 32, 43, 35, 37, 42, 30, 36, 43, 40, 43, 44, 52, 37, 51, 35, 47, 40, 50, 37, 49]})"
   ]
  },
  {
   "cell_type": "code",
   "execution_count": null,
   "id": "327b73d1",
   "metadata": {},
   "outputs": [],
   "source": [
    "desvio_padrao = df_techtaste['avaliacoes'].std()\n",
    "print(f'Desvio padrão: {desvio_padrao:.2f}')"
   ]
  },
  {
   "cell_type": "code",
   "execution_count": null,
   "id": "53eb809c",
   "metadata": {},
   "outputs": [],
   "source": [
    "from scipy import stats\n",
    "\n",
    "erro_padrao = stats.sem(df_techtaste['avaliacoes'])\n",
    "print(f'Erro padrão: {erro_padrao:.2f}')"
   ]
  },
  {
   "cell_type": "code",
   "execution_count": null,
   "id": "76f0347b",
   "metadata": {},
   "outputs": [],
   "source": [
    "import matplotlib.pyplot as plt\n",
    "\n",
    "# Gráfico de histograma\n",
    "plt.hist(df_techtaste['avaliacoes'], bins=15, color='skyblue')\n",
    "plt.title('Distribuição historiograma TechTaste')\n",
    "plt.xlabel('Avaliações')\n",
    "plt.ylabel('Frequência')\n",
    "plt.show()"
   ]
  },
  {
   "cell_type": "code",
   "execution_count": null,
   "id": "3de51e57",
   "metadata": {},
   "outputs": [],
   "source": [
    "import seaborn as sns\n",
    "import matplotlib.pyplot as plt\n",
    "\n",
    "sns.kdeplot(df_techtaste['avaliacoes'], linewidth=2, fill= True)\n",
    "\n",
    "plt.xlabel('Avaliações')\n",
    "plt.ylabel('Frequência')\n",
    "plt.title('Distribuição suave TechTaste')\n",
    "plt.show()"
   ]
  },
  {
   "cell_type": "code",
   "execution_count": null,
   "id": "66db38c0",
   "metadata": {},
   "outputs": [],
   "source": [
    "confianca = 0.90\n",
    "intervalo_confianca = stats.norm.interval(confianca,\n",
    "                                       loc=df_techtaste['avaliacoes'].mean() ,\n",
    "                                       scale=erro_padrao)\n",
    "\n",
    "print(f'Intervalo de Confiança ({confianca*100}%): {intervalo_confianca}')"
   ]
  },
  {
   "cell_type": "code",
   "execution_count": null,
   "id": "f435cda8",
   "metadata": {},
   "outputs": [],
   "source": [
    "confianca = 0.95\n",
    "intervalo_confianca = stats.norm.interval(confianca,\n",
    "                                       loc=df_techtaste['avaliacoes'].mean() ,\n",
    "                                       scale=erro_padrao)\n",
    "\n",
    "print(f'Intervalo de Confiança ({confianca*100}%): {intervalo_confianca}')"
   ]
  }
 ],
 "metadata": {
  "language_info": {
   "name": "python"
  }
 },
 "nbformat": 4,
 "nbformat_minor": 5
}
