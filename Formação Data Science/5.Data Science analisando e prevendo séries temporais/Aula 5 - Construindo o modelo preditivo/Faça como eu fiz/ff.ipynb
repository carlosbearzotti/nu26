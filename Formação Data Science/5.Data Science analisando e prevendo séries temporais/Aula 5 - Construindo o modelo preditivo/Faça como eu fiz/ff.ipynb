{
 "cells": [
  {
   "cell_type": "code",
   "execution_count": null,
   "id": "b5e1460c",
   "metadata": {},
   "outputs": [],
   "source": [
    "df_prophet = df_data[['data', 'contagem']].rename(columns={'data': 'ds', 'contagem': 'y'})\n",
    "df_prophet.head()"
   ]
  },
  {
   "cell_type": "code",
   "execution_count": null,
   "id": "29222956",
   "metadata": {},
   "outputs": [],
   "source": [
    "df_prophet = df_prophet.groupby('ds')['y'].sum().reset_index()\n",
    "df_prophet"
   ]
  },
  {
   "cell_type": "code",
   "execution_count": null,
   "id": "902fa73b",
   "metadata": {},
   "outputs": [],
   "source": [
    "# Definindo um seed para garantir a reprodutibilidade\n",
    "import numpy as np\n",
    "np.random.seed(4587)\n",
    "\n",
    "# Instanciando o modelo Prophet\n",
    "modelo = Prophet()\n",
    "\n",
    "# Treinando o modelo\n",
    "modelo.fit(df_prophet)\n",
    "\n",
    "# Criando um dataframe para previsões futuras\n",
    "futuro = modelo.make_future_dataframe(periods=90, freq='D')\n",
    "\n",
    "#Realizando a previsão\n",
    "previsao = modelo.predict(futuro)"
   ]
  },
  {
   "cell_type": "code",
   "execution_count": null,
   "id": "92d15065",
   "metadata": {},
   "outputs": [],
   "source": [
    "df_treino = pd.DataFrame()\n",
    "\n",
    "# Separando 80% dos dados para treino\n",
    "df_treino['ds'] = df_prophet['ds'][:584] #\n",
    "df_treino['y'] = df_prophet['y'][:584]\n",
    "\n",
    "df_teste = pd.DataFrame()\n",
    "\n",
    "# Separando 20% dos dados para teste\n",
    "df_teste['ds'] = df_prophet['ds'][584:]\n",
    "df_teste['y'] = df_prophet['y'][584:]"
   ]
  },
  {
   "cell_type": "code",
   "execution_count": null,
   "id": "f19c83e7",
   "metadata": {},
   "outputs": [],
   "source": [
    "np.random.seed(4587)\n",
    "\n",
    "modelo = Prophet()\n",
    "\n",
    "modelo.fit(df_treino)\n",
    "\n",
    "futuro = modelo.make_future_dataframe(periods=150, freq='D')\n",
    "previsao = modelo.predict(futuro)"
   ]
  },
  {
   "cell_type": "code",
   "execution_count": null,
   "id": "ee74ecda",
   "metadata": {},
   "outputs": [],
   "source": [
    "fig1 = modelo.plot(previsao)\n",
    "plt.plot(df_teste['ds'], df_teste['y'], '.r')"
   ]
  },
  {
   "cell_type": "code",
   "execution_count": null,
   "id": "f1439af8",
   "metadata": {},
   "outputs": [],
   "source": [
    "df_previsao = previsao[['ds', 'yhat']]\n",
    "df_comparacao = pd.merge(df_previsao, df_teste, on='ds')"
   ]
  },
  {
   "cell_type": "code",
   "execution_count": null,
   "id": "b390600a",
   "metadata": {},
   "outputs": [],
   "source": [
    "from sklearn.metrics import mean_squared_error\n",
    "\n",
    "# Calculando métricas de erro\n",
    "mse = mean_squared_error(df_comparacao['y'], df_comparacao['yhat'])\n",
    "rmse = np.sqrt(mse)\n",
    "\n",
    "print(f'MSE: {mse}, RMSE: {rmse}')"
   ]
  }
 ],
 "metadata": {
  "language_info": {
   "name": "python"
  }
 },
 "nbformat": 4,
 "nbformat_minor": 5
}
