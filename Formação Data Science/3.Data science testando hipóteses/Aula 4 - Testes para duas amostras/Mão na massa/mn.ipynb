{
 "cells": [
  {
   "cell_type": "code",
   "execution_count": null,
   "id": "4891d93a",
   "metadata": {},
   "outputs": [],
   "source": [
    "import pandas as pd\n",
    "\n",
    "df_equipe_vendas = pd.DataFrame({'Vendedor': [ 'Luíza', 'Bia', 'Rodrigo', 'Allan', 'Evaldo'],\n",
    "                                 'Vendas Antes (R$)': [252.72, 203.91, 307.32, 185.78, 220.5],\n",
    "                                 'Vendas Depois (R$)': [285.1, 223.15, 324.41, 202.23, 240.63]})"
   ]
  },
  {
   "cell_type": "code",
   "execution_count": null,
   "id": "9d3d9229",
   "metadata": {},
   "outputs": [],
   "source": [
    "import pandas as pd\n",
    "\n",
    "df_filiais = pd.DataFrame({'Filial Centro-Norte': [3.2, 2.9, 2.0, 3.3, 3.1],\n",
    "                           'Filial Sul': [3.8, 4.0, 4.7, 4.9, 4.8]})"
   ]
  },
  {
   "cell_type": "code",
   "execution_count": null,
   "id": "3e77dcfc",
   "metadata": {},
   "outputs": [],
   "source": [
    "from scipy.stats import ttest_rel\n",
    "\n",
    "stat, p_valor = ttest_rel(df_equipe_vendas['Vendas Depois (R$)'], df_equipe_vendas['Vendas Antes (R$)'])\n",
    "print(f'Estatística do teste t pareado: {stat}')\n",
    "print(f'Valor-p: {p_valor}')"
   ]
  },
  {
   "cell_type": "code",
   "execution_count": null,
   "id": "05b86705",
   "metadata": {},
   "outputs": [],
   "source": [
    "nivel_significancia = 0.05\n",
    "if p_valor < nivel_significancia:\n",
    "    conclusao = 'Rejeitar a hipótese nula'\n",
    "else:\n",
    "    conclusao = 'Não rejeitar a hipótese nula'\n",
    "\n",
    "print('Conclusão:', conclusao)"
   ]
  },
  {
   "cell_type": "markdown",
   "id": "51dc52e9",
   "metadata": {},
   "source": [
    "H0: (média da filial Centro-Norte) = (média da filial Sul)\n",
    "H1: (média da filial Centro-Norte) != (média da filial Sul)"
   ]
  },
  {
   "cell_type": "code",
   "execution_count": null,
   "id": "70df4e4d",
   "metadata": {},
   "outputs": [],
   "source": [
    "from scipy.stats import ttest_ind\n",
    "\n",
    "stat, p_valor = ttest_ind(df_filiais['Filial Centro-Norte'], df_filiais['Filial Sul'])\n",
    "\n",
    "print(f'Estatística do teste t independente: {stat}')\n",
    "print(f'Valor-p: {p_valor}')"
   ]
  },
  {
   "cell_type": "code",
   "execution_count": null,
   "id": "b3200aed",
   "metadata": {},
   "outputs": [],
   "source": [
    "nivel_significancia = 0.05\n",
    "if p_valor < nivel_significancia:\n",
    "    conclusao = 'Rejeitar a hipótese nula'\n",
    "else:\n",
    "    conclusao = 'Não rejeitar a hipótese nula'\n",
    "\n",
    "print('Conclusão:', conclusao)"
   ]
  }
 ],
 "metadata": {
  "language_info": {
   "name": "python"
  }
 },
 "nbformat": 4,
 "nbformat_minor": 5
}
