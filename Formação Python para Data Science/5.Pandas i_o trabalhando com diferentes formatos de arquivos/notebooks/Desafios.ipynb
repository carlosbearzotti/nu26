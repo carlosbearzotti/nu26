{
 "cells": [
  {
   "cell_type": "code",
   "execution_count": null,
   "id": "c2fd7d14",
   "metadata": {},
   "outputs": [],
   "source": [
    "url = 'https://raw.githubusercontent.com/alura-cursos/Pandas/main/dados_sus.csv'"
   ]
  },
  {
   "cell_type": "code",
   "execution_count": null,
   "id": "220578b8",
   "metadata": {},
   "outputs": [],
   "source": [
    "dados = pd.read_csv(url, encoding='ISO-8859-1', sep=';', skiprows=3, skipfooter = 9, engine='python')"
   ]
  },
  {
   "cell_type": "code",
   "execution_count": null,
   "id": "b1100b30",
   "metadata": {},
   "outputs": [],
   "source": [
    "sheet_id = '1pvBoLyX8kP0TjtUbadVMGdTl4yzm6bHMThhPiqCVtpw'"
   ]
  },
  {
   "cell_type": "code",
   "execution_count": null,
   "id": "09f02b70",
   "metadata": {},
   "outputs": [],
   "source": [
    "url = f'https://docs.google.com/spreadsheets/d/{sheet_id}/gviz/tq?tqx=out:csv&sheet'"
   ]
  },
  {
   "cell_type": "code",
   "execution_count": null,
   "id": "d5276c13",
   "metadata": {},
   "outputs": [],
   "source": [
    "dados = pd.read_csv(url)"
   ]
  },
  {
   "cell_type": "code",
   "execution_count": null,
   "id": "12599f25",
   "metadata": {},
   "outputs": [],
   "source": [
    "dados.to_csv('dados_emissoes_co2.csv', index=False)"
   ]
  },
  {
   "cell_type": "code",
   "execution_count": null,
   "id": "68478838",
   "metadata": {},
   "outputs": [],
   "source": [
    "import requests\n",
    "import json\n",
    "\n",
    "dados_usuarios = requests.get('https://jsonplaceholder.typicode.com/users')\n",
    "resultado = json.loads(dados_usuarios.text)"
   ]
  },
  {
   "cell_type": "code",
   "execution_count": null,
   "id": "53559981",
   "metadata": {},
   "outputs": [],
   "source": [
    "import pandas as pd\n",
    "dados_usuarios_normalizado = pd.json_normalize(resultado, sep='_')"
   ]
  },
  {
   "cell_type": "code",
   "execution_count": null,
   "id": "27227e87",
   "metadata": {},
   "outputs": [],
   "source": [
    "dados_usuarios_normalizado"
   ]
  },
  {
   "cell_type": "code",
   "execution_count": null,
   "id": "d75baa39",
   "metadata": {},
   "outputs": [],
   "source": [
    "pd.read_html('https://pt.wikipedia.org/wiki/Lista_de_pa%C3%ADses_por_popula%C3%A7%C3%A3o')[0]"
   ]
  },
  {
   "cell_type": "code",
   "execution_count": null,
   "id": "a7f0f6db",
   "metadata": {},
   "outputs": [],
   "source": [
    "import sqlalchemy\n",
    "from sqlalchemy import create_engine, MetaData, Table, inspect\n",
    "engine = create_engine('sqlite:///:memory:')"
   ]
  },
  {
   "cell_type": "code",
   "execution_count": null,
   "id": "39cf873c",
   "metadata": {},
   "outputs": [],
   "source": [
    "import pandas as pd\n",
    "url = 'https://raw.githubusercontent.com/alura-cursos/Pandas/main/clientes_banco.csv'\n",
    "dados = pd.read_csv(url)\n",
    "dados.to_sql('clientes', engine, index=False)"
   ]
  },
  {
   "cell_type": "code",
   "execution_count": null,
   "id": "a16c6ac6",
   "metadata": {},
   "outputs": [],
   "source": [
    "pd.read_sql_table('clientes', engine)"
   ]
  },
  {
   "cell_type": "code",
   "execution_count": null,
   "id": "7b8542ac",
   "metadata": {},
   "outputs": [],
   "source": [
    "from sqlalchemy import text"
   ]
  },
  {
   "cell_type": "code",
   "execution_count": null,
   "id": "c8186b19",
   "metadata": {},
   "outputs": [],
   "source": [
    "query = 'UPDATE Clientes SET Rendimento_anual=300000.0 WHERE ID_Cliente=6840104' \n",
    "with engine.connect() as conn:\n",
    "  result = conn.execute(text(query))\n",
    "  conn.commit()"
   ]
  },
  {
   "cell_type": "code",
   "execution_count": null,
   "id": "26fda2fd",
   "metadata": {},
   "outputs": [],
   "source": [
    "query = 'DELETE FROM clientes WHERE ID_Cliente=5008809'\n",
    "with engine.connect() as conn:\n",
    "  result = conn.execute(text(query))\n",
    "  conn.commit()"
   ]
  },
  {
   "cell_type": "code",
   "execution_count": null,
   "id": "8b8932f5",
   "metadata": {},
   "outputs": [],
   "source": [
    "pd.read_sql_table('clientes', engine)"
   ]
  }
 ],
 "metadata": {
  "language_info": {
   "name": "python"
  }
 },
 "nbformat": 4,
 "nbformat_minor": 5
}
