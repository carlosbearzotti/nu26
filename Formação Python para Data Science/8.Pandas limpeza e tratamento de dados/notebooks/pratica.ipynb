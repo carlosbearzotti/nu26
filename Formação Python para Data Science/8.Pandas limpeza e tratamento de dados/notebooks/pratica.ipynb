{
 "cells": [
  {
   "cell_type": "code",
   "execution_count": null,
   "id": "013d91a7",
   "metadata": {},
   "outputs": [],
   "source": [
    "import json\n",
    "\n",
    "with open('informacoes.json') as f:\n",
    "    dados = json.load(f)"
   ]
  },
  {
   "cell_type": "code",
   "execution_count": null,
   "id": "0097390e",
   "metadata": {},
   "outputs": [],
   "source": [
    "import pandas as pd\n",
    "\n",
    "informacoes = pd.json_normalize(dados, record_path='enderecos', meta=['nome', 'idade'])"
   ]
  }
 ],
 "metadata": {
  "language_info": {
   "name": "python"
  }
 },
 "nbformat": 4,
 "nbformat_minor": 5
}
