{
 "cells": [
  {
   "cell_type": "code",
   "execution_count": null,
   "id": "01bf7f80",
   "metadata": {},
   "outputs": [],
   "source": [
    "df_tempo = df_data.groupby('data')['contagem'].sum().reset_index()"
   ]
  },
  {
   "cell_type": "code",
   "execution_count": null,
   "id": "b987c766",
   "metadata": {},
   "outputs": [],
   "source": [
    "df_tempo['mes'] = df_tempo['data'].dt.to_period('M')\n",
    "df_tempo"
   ]
  },
  {
   "cell_type": "code",
   "execution_count": null,
   "id": "befe4896",
   "metadata": {},
   "outputs": [],
   "source": [
    "media_aluguel_mes = df_tempo.groupby(['mes'])['contagem'].mean().reset_index()\n",
    "media_aluguel_mes"
   ]
  },
  {
   "cell_type": "code",
   "execution_count": null,
   "id": "d17d5a1f",
   "metadata": {},
   "outputs": [],
   "source": [
    "plt.figure(figsize = (20,6))\n",
    "sns.barplot(x='mes', y='contagem', data=media_aluguel_mes)\n",
    "plt.title('Média de aluguel diário de bicicletas por mês')\n",
    "plt.show()"
   ]
  }
 ],
 "metadata": {
  "language_info": {
   "name": "python"
  }
 },
 "nbformat": 4,
 "nbformat_minor": 5
}
