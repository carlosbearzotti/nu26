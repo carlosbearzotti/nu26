{
 "cells": [
  {
   "cell_type": "code",
   "execution_count": null,
   "id": "8d82de5f",
   "metadata": {},
   "outputs": [],
   "source": [
    "novo_imovel = pd.DataFrame({'const':[1],\n",
    "                            'area_primeiro_andar':[98],\n",
    "                            'existe_segundo_andar': [0],\n",
    "                            'quantidade_banheiros': [1],\n",
    "                            'qualidade_da_cozinha_Excelente': [1]\n",
    "                            })"
   ]
  },
  {
   "cell_type": "code",
   "execution_count": null,
   "id": "1d22cb23",
   "metadata": {},
   "outputs": [],
   "source": [
    "modelo_0.predict(novo_imovel['area_primeiro_andar'])"
   ]
  },
  {
   "cell_type": "code",
   "execution_count": null,
   "id": "b92b3ef1",
   "metadata": {},
   "outputs": [],
   "source": [
    "modelo_3.predict(novo_imovel)[0]"
   ]
  }
 ],
 "metadata": {
  "language_info": {
   "name": "python"
  }
 },
 "nbformat": 4,
 "nbformat_minor": 5
}
