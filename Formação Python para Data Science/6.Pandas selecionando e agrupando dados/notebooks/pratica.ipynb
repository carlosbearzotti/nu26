{
 "cells": [
  {
   "cell_type": "code",
   "execution_count": null,
   "id": "b628fc51",
   "metadata": {},
   "outputs": [],
   "source": [
    "emissoes_gases['Nível 1 - Setor'].unique()"
   ]
  },
  {
   "cell_type": "code",
   "execution_count": null,
   "id": "a4f29bbe",
   "metadata": {},
   "outputs": [],
   "source": [
    "emissoes_gases['Estado'].unique()"
   ]
  },
  {
   "cell_type": "code",
   "execution_count": null,
   "id": "8dd30fe8",
   "metadata": {},
   "outputs": [],
   "source": [
    "emissoes_gases[emissoes_gases['Estado'].isin(['PR', 'RS', 'SC'])]"
   ]
  },
  {
   "cell_type": "code",
   "execution_count": null,
   "id": "eff13d6a",
   "metadata": {},
   "outputs": [],
   "source": [
    "emissoes_gases[(emissoes_gases['Nível 1 - Setor'] == 'Mudança de Uso da Terra e Floresta') & (emissoes_gases['Estado'] == 'AM')]"
   ]
  },
  {
   "cell_type": "code",
   "execution_count": null,
   "id": "48440c40",
   "metadata": {},
   "outputs": [],
   "source": [
    "emissoes_gases.loc[(emissoes_gases['Nível 1 - Setor'] == 'Agropecuária') & (emissoes_gases['Estado'] == 'PA'), 2021].max()"
   ]
  },
  {
   "cell_type": "code",
   "execution_count": null,
   "id": "6aa10a94",
   "metadata": {},
   "outputs": [],
   "source": [
    "emissoes_por_ano.groupby('Nível 1 - Setor').groups"
   ]
  },
  {
   "cell_type": "code",
   "execution_count": null,
   "id": "f9777237",
   "metadata": {},
   "outputs": [],
   "source": [
    "emissoes_por_ano.groupby('Nível 1 - Setor').get_group('Agropecuária')"
   ]
  },
  {
   "cell_type": "code",
   "execution_count": null,
   "id": "b58c8134",
   "metadata": {},
   "outputs": [],
   "source": [
    "emissoes_por_ano[emissoes_por_ano['Ano']==2021].groupby('Nível 1 - Setor')[['Emissão']].mean()"
   ]
  },
  {
   "cell_type": "code",
   "execution_count": null,
   "id": "80859e26",
   "metadata": {},
   "outputs": [],
   "source": [
    "emissoes_por_ano.groupby('Nível 1 - Setor')[['Emissão']].sum().sort_values('Emissão', ascending = False)"
   ]
  },
  {
   "cell_type": "code",
   "execution_count": null,
   "id": "dc087f59",
   "metadata": {},
   "outputs": [],
   "source": [
    "emissao_setores = emissoes_por_ano.pivot_table(values = 'Emissão', index = 'Ano', columns = 'Nível 1 - Setor', aggfunc = 'mean')\n",
    "emissao_setores"
   ]
  },
  {
   "cell_type": "code",
   "execution_count": null,
   "id": "e73e1d25",
   "metadata": {},
   "outputs": [],
   "source": [
    "emissao_setores.plot(subplots = True, figsize = (10,10));"
   ]
  },
  {
   "cell_type": "code",
   "execution_count": null,
   "id": "1d219706",
   "metadata": {},
   "outputs": [],
   "source": [
    "emissoes_estados_setor = emissoes_por_ano.groupby(['Estado', 'Nível 1 - Setor'])[['Emissão']].sum()"
   ]
  },
  {
   "cell_type": "code",
   "execution_count": null,
   "id": "e5f66085",
   "metadata": {},
   "outputs": [],
   "source": [
    "emissoes_estados_setor.xs('Energia', level = 1)"
   ]
  },
  {
   "cell_type": "code",
   "execution_count": null,
   "id": "f36051c9",
   "metadata": {},
   "outputs": [],
   "source": [
    "emissoes_estados_setor.xs('MG', level = 0).idxmax()"
   ]
  },
  {
   "cell_type": "code",
   "execution_count": null,
   "id": "c5666b3f",
   "metadata": {},
   "outputs": [],
   "source": [
    "emissoes_estados_setor = emissoes_por_ano.groupby(['Estado', 'Nível 1 - Setor'])[['Emissão']].sum()\n",
    "emissoes_estados_setor.groupby(level = 0).idxmax()"
   ]
  },
  {
   "cell_type": "code",
   "execution_count": null,
   "id": "0d2a63e4",
   "metadata": {},
   "outputs": [],
   "source": [
    "emissoes_estados_setor = emissoes_por_ano.groupby(['Estado', 'Nível 1 - Setor'])[['Emissão']].sum()\n",
    "emissoes_estados_setor.groupby(level = 1).idxmax()"
   ]
  }
 ],
 "metadata": {
  "language_info": {
   "name": "python"
  }
 },
 "nbformat": 4,
 "nbformat_minor": 5
}
