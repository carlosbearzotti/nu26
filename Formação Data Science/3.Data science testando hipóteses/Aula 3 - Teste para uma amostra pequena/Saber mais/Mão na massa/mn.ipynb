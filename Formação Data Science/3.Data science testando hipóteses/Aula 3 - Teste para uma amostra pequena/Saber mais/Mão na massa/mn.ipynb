{
 "cells": [
  {
   "cell_type": "code",
   "execution_count": null,
   "id": "eb91cde3",
   "metadata": {},
   "outputs": [],
   "source": [
    "import pandas as pd\n",
    "\n",
    "# Conjunto de dados Techsafe\n",
    "df_techsafe = pd.DataFrame({'porcentagem_compressao': [21.99342831, 20.7234714 , 22.29537708, 24.04605971, 20.53169325, 20.53172609, 24.15842563, 22.53486946, 20.06105123, 22.08512009, 20.07316461, 20.06854049, 21.48392454, 17.17343951, 17.55016433, 19.87542494, 18.97433776, 21.62849467, 19.18395185, 18.1753926, 23.93129754, 20.5484474 , 21.13505641, 18.15050363, 19.91123455]})"
   ]
  },
  {
   "cell_type": "markdown",
   "id": "2995439d",
   "metadata": {},
   "source": [
    "H0: u = 20\n",
    "H1: u > 20"
   ]
  },
  {
   "cell_type": "code",
   "execution_count": null,
   "id": "23df8c82",
   "metadata": {},
   "outputs": [],
   "source": [
    "media_amostral = df_techsafe['porcentagem_compressao'].mean()\n",
    "print(f'Média amostral: {media_amostral}')"
   ]
  },
  {
   "cell_type": "code",
   "execution_count": null,
   "id": "f9bd38d9",
   "metadata": {},
   "outputs": [],
   "source": [
    "nivel_confianca = 0.95\n",
    "nivel_significancia = 1-nivel_confianca\n",
    "print(f'Nível de significância: {nivel_significancia}')"
   ]
  },
  {
   "cell_type": "code",
   "execution_count": null,
   "id": "2acbabe1",
   "metadata": {},
   "outputs": [],
   "source": [
    "from scipy.stats import ttest_1samp\n",
    "\n",
    "valor_hipotese_nula = 20\n",
    "\n",
    "estatistica_t, p_valor = ttest_1samp(df_techsafe['porcentagem_compressao'], valor_hipotese_nula, alternative = 'greater')\n",
    "\n",
    "print(f'Estatística t: {estatistica_t}')\n",
    "print(f'Valor-p: {p_valor}')"
   ]
  },
  {
   "cell_type": "code",
   "execution_count": null,
   "id": "f949c8af",
   "metadata": {},
   "outputs": [],
   "source": [
    "if p_valor < nivel_significancia:\n",
    "    decisao = 'Rejeitar a hipótese nula'\n",
    "else:\n",
    "    decisao = 'Não rejeitar a hipótese nula'\n",
    "\n",
    "print(f'Decisão: {decisao}')"
   ]
  }
 ],
 "metadata": {
  "language_info": {
   "name": "python"
  }
 },
 "nbformat": 4,
 "nbformat_minor": 5
}
