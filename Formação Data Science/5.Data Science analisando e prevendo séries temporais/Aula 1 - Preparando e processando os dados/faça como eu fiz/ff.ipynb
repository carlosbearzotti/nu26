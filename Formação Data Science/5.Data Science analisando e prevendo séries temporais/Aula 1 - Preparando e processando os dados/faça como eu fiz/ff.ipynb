{
 "cells": [
  {
   "cell_type": "code",
   "execution_count": null,
   "id": "6acf1172",
   "metadata": {},
   "outputs": [],
   "source": [
    "import pandas as pd\n",
    "\n",
    "df = pd.read_csv('https://raw.githubusercontent.com/alura-cursos/data_science_projeto/main/Dados/bicicletas.csv')\n",
    "\n",
    "df.head()"
   ]
  },
  {
   "cell_type": "code",
   "execution_count": null,
   "id": "e62fb9f2",
   "metadata": {},
   "outputs": [],
   "source": [
    "df.shape"
   ]
  },
  {
   "cell_type": "code",
   "execution_count": null,
   "id": "c04a274c",
   "metadata": {},
   "outputs": [],
   "source": [
    "df['temperatura'] = df['temperatura'].interpolate(method='linear')\n",
    "df['sensacao_termica'] = df['sensacao_termica'].interpolate(method='linear')"
   ]
  },
  {
   "cell_type": "code",
   "execution_count": null,
   "id": "24d57c42",
   "metadata": {},
   "outputs": [],
   "source": [
    "# Identificando as linhas duplicadas no DataFrame\n",
    "duplicatas = df.duplicated(keep=False)\n",
    "\n",
    "# Selecionando as linhas duplicadas com base no resultado anterior\n",
    "linhas_duplicadas = df[duplicatas]\n",
    "\n",
    "# Ordenando as linhas duplicadas pela coluna 'data_hora'\n",
    "linhas_duplicadas.sort_values(by='data_hora')"
   ]
  }
 ],
 "metadata": {
  "language_info": {
   "name": "python"
  }
 },
 "nbformat": 4,
 "nbformat_minor": 5
}
