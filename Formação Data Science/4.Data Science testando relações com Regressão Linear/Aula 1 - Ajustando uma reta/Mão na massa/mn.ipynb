{
 "cells": [
  {
   "cell_type": "code",
   "execution_count": null,
   "id": "4dd311f3",
   "metadata": {},
   "outputs": [],
   "source": [
    "# Atividade\n",
    "import pandas as pd\n",
    "import numpy as np\n",
    "import matplotlib.pyplot as plt\n",
    "import seaborn as sns\n",
    "\n",
    "#Lendo dados\n",
    "dados = pd.read_csv(\"/content/Preços_de_casas.csv\")\n",
    "dados = dados.drop(columns = \"Id\")\n",
    "\n",
    "# Correlação\n",
    "corr = dados.corr()\n",
    "\n",
    "# Quais fatores estão mais correlacionados?\n",
    "\n",
    "# Gerar uma máscara para o triângulo superior\n",
    "mascara = np.zeros_like(corr, dtype=bool)\n",
    "mascara[np.triu_indices_from(mascara)] = True\n",
    "\n",
    "# Configurar a figura do matplotlib\n",
    "f, ax = plt.subplots(figsize=(11, 9))\n",
    "\n",
    "# Gerar o mapa de calor (heatmap)\n",
    "cmap = sns.diverging_palette(220, 10, as_cmap=True)\n",
    "\n",
    "sns.heatmap(corr, mask=mascara, cmap=cmap, vmax=1, vmin=-1, center=0,\n",
    "            square=True, linewidths=.5, annot=True, cbar_kws={\"shrink\": .5})\n",
    "\n",
    "# Exibir o mapa de calor (heatmap)\n",
    "plt.show()"
   ]
  },
  {
   "cell_type": "code",
   "execution_count": null,
   "id": "76560e94",
   "metadata": {},
   "outputs": [],
   "source": []
  }
 ],
 "metadata": {
  "language_info": {
   "name": "python"
  }
 },
 "nbformat": 4,
 "nbformat_minor": 5
}
