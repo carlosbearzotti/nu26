{
 "cells": [
  {
   "cell_type": "code",
   "execution_count": null,
   "id": "6d6922b0",
   "metadata": {},
   "outputs": [],
   "source": [
    "np.random.seed(4587)\n",
    "\n",
    "modelo = Prophet(yearly_seasonality=True)\n",
    "modelo.fit(df_treino)\n",
    "futuro = modelo.make_future_dataframe(periods=150, freq='D')\n",
    "previsao = modelo.predict(futuro)"
   ]
  },
  {
   "cell_type": "code",
   "execution_count": null,
   "id": "7b5d1622",
   "metadata": {},
   "outputs": [],
   "source": [
    "fig1 = modelo.plot(previsao)\n",
    "plt.plot(df_teste['ds'], df_teste['y'], '.r')\n",
    "\n",
    "fig2 = modelo.plot_components(previsao)"
   ]
  },
  {
   "cell_type": "code",
   "execution_count": null,
   "id": "4ace1b81",
   "metadata": {},
   "outputs": [],
   "source": [
    "df_previsao = previsao[['ds', 'yhat']]\n",
    "df_comparacao = pd.merge(df_previsao, df_teste, on='ds')\n",
    "\n",
    "mse = mean_squared_error(df_comparacao['y'], df_comparacao['yhat'])\n",
    "rmse = np.sqrt(mse)\n",
    "\n",
    "print(f'MSE:{mse}, RMSE:{rmse}')"
   ]
  },
  {
   "cell_type": "code",
   "execution_count": null,
   "id": "74dfef66",
   "metadata": {},
   "outputs": [],
   "source": [
    "# Obtendo os intervalos de confiança\n",
    "np.random.seed(4587)\n",
    "modelo = Prophet()\n",
    "modelo.fit(df_prophet)\n",
    "futuro = modelo.make_future_dataframe(periods=0)\n",
    "previsao = modelo.predict(futuro)\n",
    "\n",
    "# Removendo os outliers \n",
    "sem_outliers = df_prophet[(df_prophet['y'] > previsao['yhat_lower']) & (df_prophet['y'] < previsao['yhat_upper'])]\n",
    "\n",
    "# Separando 80% dos dados para treino\n",
    "df_treino = pd.DataFrame()\n",
    "df_treino['ds'] = sem_outliers['ds'][:505]\n",
    "df_treino['y'] = sem_outliers['y'][:505]\n",
    "\n",
    "# Separando 20% dos dados para teste\n",
    "df_teste = pd.DataFrame()\n",
    "df_teste['ds'] = sem_outliers['ds'][505:]\n",
    "df_teste['y'] = sem_outliers['y'][505:]"
   ]
  },
  {
   "cell_type": "code",
   "execution_count": null,
   "id": "9f9efab6",
   "metadata": {},
   "outputs": [],
   "source": [
    "# Realizando a previsão\n",
    "np.random.seed(4587)\n",
    "modelo_sem_outliers = Prophet(yearly_seasonality=True)\n",
    "modelo_sem_outliers.fit(df_treino)\n",
    "futuro = modelo_sem_outliers.make_future_dataframe(periods=150, freq='D')\n",
    "previsao = modelo_sem_outliers.predict(futuro)\n",
    "\n",
    "# Calculando o RMSE\n",
    "df_previsao = previsao[['ds', 'yhat']]\n",
    "df_comparacao = pd.merge(df_previsao, df_teste, on='ds')\n",
    "\n",
    "mse = mean_squared_error(df_comparacao['y'], df_comparacao['yhat'])\n",
    "rmse = np.sqrt(mse)\n",
    "print(f'MSE: {mse}, RMSE: {rmse}')"
   ]
  },
  {
   "cell_type": "code",
   "execution_count": null,
   "id": "a710756e",
   "metadata": {},
   "outputs": [],
   "source": [
    "# Realizando a previsão\n",
    "np.random.seed(4587)\n",
    "modelo_sem_outliers = Prophet(yearly_seasonality=True)\n",
    "modelo_sem_outliers.fit(df_treino)\n",
    "futuro = modelo_sem_outliers.make_future_dataframe(periods=365, freq='D')\n",
    "previsao = modelo_sem_outliers.predict(futuro)\n",
    "\n",
    "from prophet.plot import plot_plotly\n",
    "fig = plot_plotly(modelo_sem_outliers, previsao)\n",
    "fig.show()"
   ]
  }
 ],
 "metadata": {
  "language_info": {
   "name": "python"
  }
 },
 "nbformat": 4,
 "nbformat_minor": 5
}
