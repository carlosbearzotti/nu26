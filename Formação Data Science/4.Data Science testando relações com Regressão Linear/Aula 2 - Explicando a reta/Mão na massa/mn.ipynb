{
 "cells": [
  {
   "cell_type": "code",
   "execution_count": null,
   "id": "fb3c743b",
   "metadata": {},
   "outputs": [],
   "source": [
    "sns.displot(dados['preco_de_venda'], kde=True, color='green')\n",
    "plt.title('Distribuição do preço de venda')\n",
    "plt.show()"
   ]
  }
 ],
 "metadata": {
  "language_info": {
   "name": "python"
  }
 },
 "nbformat": 4,
 "nbformat_minor": 5
}
