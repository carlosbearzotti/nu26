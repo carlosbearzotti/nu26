{
 "cells": [
  {
   "cell_type": "code",
   "execution_count": null,
   "id": "c5c5985c",
   "metadata": {},
   "outputs": [],
   "source": [
    "df_limpo.describe()"
   ]
  },
  {
   "cell_type": "code",
   "execution_count": null,
   "id": "fc2977b8",
   "metadata": {},
   "outputs": [],
   "source": [
    "sns.displot(df_limpo, x='temperatura', bins=10)\n",
    "plt.show()\n",
    "\n",
    "sns.displot(df_limpo, x='sensacao_termica', bins=10)\n",
    "plt.show()\n",
    "\n",
    "sns.displot(df_limpo, x='umidade', bins=10)\n",
    "plt.show()\n",
    "\n",
    "sns.displot(df_limpo, x='velocidade_vento', bins=10)\n",
    "plt.show()"
   ]
  },
  {
   "cell_type": "code",
   "execution_count": null,
   "id": "6b72d52f",
   "metadata": {},
   "outputs": [],
   "source": [
    "fig, axes = plt.subplots(2, 2, figsize=(15, 10))\n",
    "\n",
    "sns.scatterplot(ax=axes[0, 0], data=df_limpo, x='temperatura', y='contagem', color='red')\n",
    "axes[0, 0].set_title('Temperatura vs Contagem')\n",
    "sns.scatterplot(ax=axes[0, 1], data=df_limpo, x='sensacao_termica', y='contagem', color='purple')\n",
    "axes[0, 1].set_title('Sensação Térmica vs Contagem')\n",
    "sns.scatterplot(ax=axes[1, 0], data=df_limpo, x='umidade', y='contagem', color='green')\n",
    "axes[1, 0].set_title('Umidade vs Contagem')\n",
    "sns.scatterplot(ax=axes[1, 1], data=df_limpo, x='velocidade_vento', y='contagem', color='blue')\n",
    "axes[1, 1].set_title('Velocidade do Vento vs Contagem')\n",
    "\n",
    "plt.tight_layout()\n",
    "plt.show()"
   ]
  },
  {
   "cell_type": "code",
   "execution_count": null,
   "id": "a614ba0f",
   "metadata": {},
   "outputs": [],
   "source": [
    "plt.figure(figsize=(8,4))\n",
    "sns.heatmap(df_limpo.corr(numeric_only=True), annot=True, cmap='Blues')\n",
    "plt.show()"
   ]
  }
 ],
 "metadata": {
  "language_info": {
   "name": "python"
  }
 },
 "nbformat": 4,
 "nbformat_minor": 5
}
